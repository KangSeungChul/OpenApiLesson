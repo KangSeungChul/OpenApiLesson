{
 "cells": [
  {
   "cell_type": "code",
   "execution_count": 2,
   "id": "8c13805a-4d45-4b78-b284-a0539a19ab65",
   "metadata": {},
   "outputs": [
    {
     "name": "stdout",
     "output_type": "stream",
     "text": [
      "Requirement already satisfied: qrcode in c:\\users\\user\\anaconda3\\lib\\site-packages (8.2)\n",
      "Requirement already satisfied: colorama in c:\\users\\user\\anaconda3\\lib\\site-packages (from qrcode) (0.4.6)\n",
      "Note: you may need to restart the kernel to use updated packages.\n"
     ]
    }
   ],
   "source": [
    "pip install qrcode"
   ]
  },
  {
   "cell_type": "code",
   "execution_count": 3,
   "id": "4e222067-2040-4b6c-aa44-721105c6a359",
   "metadata": {},
   "outputs": [],
   "source": [
    "import qrcode"
   ]
  },
  {
   "cell_type": "code",
   "execution_count": 4,
   "id": "c0410009-d77d-4833-b5a6-b80c29036e02",
   "metadata": {},
   "outputs": [],
   "source": [
    "github = 'https://github.com/KangSeungChul/OpenApiLesson.git'\n",
    "\n",
    "Qr = qrcode.make(github)\n",
    "Qr.save('QRcode.png')"
   ]
  },
  {
   "cell_type": "code",
   "execution_count": null,
   "id": "eb1e2ed3-d32c-427f-aff9-ca4a0b68ad2c",
   "metadata": {},
   "outputs": [],
   "source": []
  }
 ],
 "metadata": {
  "kernelspec": {
   "display_name": "Python 3 (ipykernel)",
   "language": "python",
   "name": "python3"
  },
  "language_info": {
   "codemirror_mode": {
    "name": "ipython",
    "version": 3
   },
   "file_extension": ".py",
   "mimetype": "text/x-python",
   "name": "python",
   "nbconvert_exporter": "python",
   "pygments_lexer": "ipython3",
   "version": "3.12.7"
  }
 },
 "nbformat": 4,
 "nbformat_minor": 5
}
