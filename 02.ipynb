{
 "cells": [
  {
   "cell_type": "code",
   "execution_count": 1,
   "id": "7f5c68cc-7d80-4d6c-84e3-a34e9f21f88f",
   "metadata": {},
   "outputs": [
    {
     "name": "stdout",
     "output_type": "stream",
     "text": [
      "Requirement already satisfied: folium in c:\\users\\user\\anaconda3\\lib\\site-packages (0.19.5)\n",
      "Requirement already satisfied: branca>=0.6.0 in c:\\users\\user\\anaconda3\\lib\\site-packages (from folium) (0.8.1)\n",
      "Requirement already satisfied: jinja2>=2.9 in c:\\users\\user\\anaconda3\\lib\\site-packages (from folium) (3.1.4)\n",
      "Requirement already satisfied: numpy in c:\\users\\user\\anaconda3\\lib\\site-packages (from folium) (1.26.4)\n",
      "Requirement already satisfied: requests in c:\\users\\user\\anaconda3\\lib\\site-packages (from folium) (2.32.3)\n",
      "Requirement already satisfied: xyzservices in c:\\users\\user\\anaconda3\\lib\\site-packages (from folium) (2022.9.0)\n",
      "Requirement already satisfied: MarkupSafe>=2.0 in c:\\users\\user\\anaconda3\\lib\\site-packages (from jinja2>=2.9->folium) (2.1.3)\n",
      "Requirement already satisfied: charset-normalizer<4,>=2 in c:\\users\\user\\anaconda3\\lib\\site-packages (from requests->folium) (3.3.2)\n",
      "Requirement already satisfied: idna<4,>=2.5 in c:\\users\\user\\anaconda3\\lib\\site-packages (from requests->folium) (3.7)\n",
      "Requirement already satisfied: urllib3<3,>=1.21.1 in c:\\users\\user\\anaconda3\\lib\\site-packages (from requests->folium) (2.2.3)\n",
      "Requirement already satisfied: certifi>=2017.4.17 in c:\\users\\user\\anaconda3\\lib\\site-packages (from requests->folium) (2024.8.30)\n",
      "Note: you may need to restart the kernel to use updated packages.\n"
     ]
    }
   ],
   "source": [
    "pip install folium"
   ]
  },
  {
   "cell_type": "code",
   "execution_count": 5,
   "id": "ae4822a4-1e1e-4fa4-b325-3babbead23aa",
   "metadata": {},
   "outputs": [],
   "source": [
    "import folium\n",
    "import requests as rq"
   ]
  },
  {
   "cell_type": "code",
   "execution_count": 6,
   "id": "3381e247-f907-4e32-8190-cf21455261a7",
   "metadata": {},
   "outputs": [],
   "source": [
    "map = folium.Map(location = [35, 126], zoom_start = 9)\n",
    "\n",
    "url = 'http://api.vworld.kr/req/address?'\n",
    "params = 'service=address&request=getcoord&version=2.0&crs=epsg:4326&refine=true&simple=false&format=json&type='\n",
    "road_type = 'ROAD'   #도로명주소\n",
    "road_type2 = 'PARCEL' #지번주소\n",
    "address = '&address='\n",
    "keys = '&key='\n",
    "primary_key = '0CC30A8F-E6E4-344B-B069-D4B9E1CAB0A4'\n",
    "\n",
    "road = '광주광역시 북구 하서로 85'\n",
    "\n",
    "page = rq.get(url+params+road_type+address+road+keys+primary_key)\n",
    "json_data = page.json()\n",
    "if json_data['response']['status'] == 'OK' :\n",
    "    x = json_data['response']['result']['point']['x']\n",
    "    y = json_data['response']['result']['point']['y']\n",
    "else :\n",
    "    x = 0\n",
    "    y = 0\n",
    "\n",
    "marker = folium.Marker([y, x],\n",
    "                       popup = '한국폴리텍대학 광주캠퍼스',\n",
    "                       icon = folium.Icon(color = \"green\"))\n",
    "\n",
    "marker.add_to(map)\n",
    "map.save(r'02_uni_map.html')"
   ]
  },
  {
   "cell_type": "code",
   "execution_count": null,
   "id": "525f6c62-c450-435b-bcd5-b6f2b2f835b4",
   "metadata": {},
   "outputs": [],
   "source": []
  }
 ],
 "metadata": {
  "kernelspec": {
   "display_name": "Python 3 (ipykernel)",
   "language": "python",
   "name": "python3"
  },
  "language_info": {
   "codemirror_mode": {
    "name": "ipython",
    "version": 3
   },
   "file_extension": ".py",
   "mimetype": "text/x-python",
   "name": "python",
   "nbconvert_exporter": "python",
   "pygments_lexer": "ipython3",
   "version": "3.12.7"
  }
 },
 "nbformat": 4,
 "nbformat_minor": 5
}
